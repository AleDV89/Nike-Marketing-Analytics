{
 "cells": [
  {
   "cell_type": "markdown",
   "metadata": {},
   "source": [
    "# Primera Etapa del Proyecto Nike"
   ]
  },
  {
   "cell_type": "markdown",
   "metadata": {},
   "source": [
    "En este proyecto de análisis de datos, nos sumergiremos en el mundo del marketing de Nike, una de las marcas más reconocidas a nivel mundial en la industria del calzado y la ropa deportiva. A través de este análisis, exploraremos diversos conjuntos de datos relacionados con las estrategias de marketing de Nike, su impacto en el mercado y la percepción de los consumidores.\n",
    "\n"
   ]
  },
  {
   "cell_type": "markdown",
   "metadata": {},
   "source": [
    "El objetivo principal de este primer notebook es realizar la limpieza y procesamiento de todos los conjuntos de datos utilizados en nuestro análisis. "
   ]
  },
  {
   "cell_type": "markdown",
   "metadata": {},
   "source": [
    "##### Conjunto de Datos Utilizados:\n",
    "\n",
    "[Archivo_1:Data_set_nike](https://data.world/crawlfeeds/products-dataset-from-nike)\n",
    "\n",
    "[Archivo_2:Sales_USA](https://www.kaggle.com/datasets/krishnavamsis/nike-sales)\n",
    "\n",
    "[Archivo_3:AdidasvsNike](https://www.kaggle.com/datasets/kaushiksuresh147/adidas-vs-nike)\n",
    "\n",
    "[Archivo_5:Fabricas](https://www.kaggle.com/datasets/mexwell/nike-manufacturing-locations)"
   ]
  },
  {
   "cell_type": "markdown",
   "metadata": {},
   "source": [
    "### Indice"
   ]
  },
  {
   "cell_type": "markdown",
   "metadata": {},
   "source": [
    "1. Librerías\n",
    "\n",
    "2. Lectura de los diferentes Data Frame\n",
    "\n",
    "3. Limpieza \n",
    "\n",
    "4. Preprocesamiento\n",
    "\n",
    "5. Conclusión sobre cada data set"
   ]
  },
  {
   "cell_type": "markdown",
   "metadata": {},
   "source": [
    "## 1. Librerías"
   ]
  },
  {
   "cell_type": "code",
   "execution_count": 84,
   "metadata": {},
   "outputs": [],
   "source": [
    "#Librerias\n",
    "import pandas as pd\n",
    "import numpy as np\n",
    "import seaborn as sns\n",
    "from sklearn.preprocessing import LabelEncoder\n",
    "from scipy.stats import zscore\n",
    "import matplotlib.pyplot as plt"
   ]
  },
  {
   "cell_type": "markdown",
   "metadata": {},
   "source": [
    "## 2. Lecturas del conjunto de datos"
   ]
  },
  {
   "cell_type": "code",
   "execution_count": 3,
   "metadata": {},
   "outputs": [],
   "source": [
    "#Lectura de los archivos\n",
    "#Primer grupo de archivos a comparar\n",
    "df = pd.read_csv(r\"nike_2020_04_13.csv\")\n",
    "df1 = pd.read_csv(r\"Nike Dataset.csv\")"
   ]
  },
  {
   "cell_type": "code",
   "execution_count": 4,
   "metadata": {},
   "outputs": [],
   "source": [
    "#Segundo grupo de archivos a comparar\n",
    "df_adi_nik = pd.read_csv(r\"Adidas Vs Nike.csv\")\n",
    "df_manuf = pd.read_csv(r\"C:\\Users\\alede\\Desktop\\TERCER_PROYECTO\\manufacturinglocation.csv\", sep=';')"
   ]
  },
  {
   "cell_type": "markdown",
   "metadata": {},
   "source": [
    "## 3. Limpieza de Datos"
   ]
  },
  {
   "cell_type": "markdown",
   "metadata": {},
   "source": [
    "* Verificar los archivos del primer grupo"
   ]
  },
  {
   "cell_type": "code",
   "execution_count": 5,
   "metadata": {},
   "outputs": [
    {
     "data": {
      "text/plain": [
       "(643, 12)"
      ]
     },
     "execution_count": 5,
     "metadata": {},
     "output_type": "execute_result"
    }
   ],
   "source": [
    "df.shape"
   ]
  },
  {
   "cell_type": "code",
   "execution_count": 6,
   "metadata": {},
   "outputs": [
    {
     "data": {
      "text/plain": [
       "(9360, 9)"
      ]
     },
     "execution_count": 6,
     "metadata": {},
     "output_type": "execute_result"
    }
   ],
   "source": [
    "df1.shape"
   ]
  },
  {
   "cell_type": "code",
   "execution_count": 7,
   "metadata": {},
   "outputs": [
    {
     "data": {
      "text/plain": [
       "Index(['URL', 'Product Name', 'Product ID', 'Listing Price', 'Sale Price',\n",
       "       'Discount', 'Brand', 'Description', 'Rating', 'Reviews', 'Images',\n",
       "       'Last Visited'],\n",
       "      dtype='object')"
      ]
     },
     "execution_count": 7,
     "metadata": {},
     "output_type": "execute_result"
    }
   ],
   "source": [
    "df.columns"
   ]
  },
  {
   "cell_type": "code",
   "execution_count": 8,
   "metadata": {},
   "outputs": [
    {
     "data": {
      "text/plain": [
       "Index(['Invoice Date', 'Product', 'Region', 'Retailer', 'Sales Method',\n",
       "       'State', 'Price per Unit', 'Total Sales', 'Units Sold'],\n",
       "      dtype='object')"
      ]
     },
     "execution_count": 8,
     "metadata": {},
     "output_type": "execute_result"
    }
   ],
   "source": [
    "df1.columns"
   ]
  },
  {
   "cell_type": "code",
   "execution_count": 9,
   "metadata": {},
   "outputs": [
    {
     "data": {
      "text/html": [
       "<div>\n",
       "<style scoped>\n",
       "    .dataframe tbody tr th:only-of-type {\n",
       "        vertical-align: middle;\n",
       "    }\n",
       "\n",
       "    .dataframe tbody tr th {\n",
       "        vertical-align: top;\n",
       "    }\n",
       "\n",
       "    .dataframe thead th {\n",
       "        text-align: right;\n",
       "    }\n",
       "</style>\n",
       "<table border=\"1\" class=\"dataframe\">\n",
       "  <thead>\n",
       "    <tr style=\"text-align: right;\">\n",
       "      <th></th>\n",
       "      <th>URL</th>\n",
       "      <th>Product Name</th>\n",
       "      <th>Product ID</th>\n",
       "      <th>Listing Price</th>\n",
       "      <th>Sale Price</th>\n",
       "      <th>Discount</th>\n",
       "      <th>Brand</th>\n",
       "      <th>Description</th>\n",
       "      <th>Rating</th>\n",
       "      <th>Reviews</th>\n",
       "      <th>Images</th>\n",
       "      <th>Last Visited</th>\n",
       "    </tr>\n",
       "  </thead>\n",
       "  <tbody>\n",
       "    <tr>\n",
       "      <th>0</th>\n",
       "      <td>https://www.nike.com/in/t/air-force-1-07-essen...</td>\n",
       "      <td>Nike Air Force 1 '07 Essential</td>\n",
       "      <td>CJ1646-600</td>\n",
       "      <td>0</td>\n",
       "      <td>7495</td>\n",
       "      <td>0</td>\n",
       "      <td>Nike</td>\n",
       "      <td>Let your shoe game shimmer in the Nike Air For...</td>\n",
       "      <td>0.0</td>\n",
       "      <td>0</td>\n",
       "      <td>[\"https://static.nike.com/a/images/t_PDP_1728_...</td>\n",
       "      <td>2020-04-13T15:27:56</td>\n",
       "    </tr>\n",
       "  </tbody>\n",
       "</table>\n",
       "</div>"
      ],
      "text/plain": [
       "                                                 URL  \\\n",
       "0  https://www.nike.com/in/t/air-force-1-07-essen...   \n",
       "\n",
       "                     Product Name  Product ID  Listing Price  Sale Price  \\\n",
       "0  Nike Air Force 1 '07 Essential  CJ1646-600              0        7495   \n",
       "\n",
       "   Discount Brand                                        Description  Rating  \\\n",
       "0         0  Nike  Let your shoe game shimmer in the Nike Air For...     0.0   \n",
       "\n",
       "   Reviews                                             Images  \\\n",
       "0        0  [\"https://static.nike.com/a/images/t_PDP_1728_...   \n",
       "\n",
       "          Last Visited  \n",
       "0  2020-04-13T15:27:56  "
      ]
     },
     "execution_count": 9,
     "metadata": {},
     "output_type": "execute_result"
    }
   ],
   "source": [
    "df.head(1)"
   ]
  },
  {
   "cell_type": "code",
   "execution_count": 10,
   "metadata": {},
   "outputs": [
    {
     "data": {
      "text/html": [
       "<div>\n",
       "<style scoped>\n",
       "    .dataframe tbody tr th:only-of-type {\n",
       "        vertical-align: middle;\n",
       "    }\n",
       "\n",
       "    .dataframe tbody tr th {\n",
       "        vertical-align: top;\n",
       "    }\n",
       "\n",
       "    .dataframe thead th {\n",
       "        text-align: right;\n",
       "    }\n",
       "</style>\n",
       "<table border=\"1\" class=\"dataframe\">\n",
       "  <thead>\n",
       "    <tr style=\"text-align: right;\">\n",
       "      <th></th>\n",
       "      <th>Invoice Date</th>\n",
       "      <th>Product</th>\n",
       "      <th>Region</th>\n",
       "      <th>Retailer</th>\n",
       "      <th>Sales Method</th>\n",
       "      <th>State</th>\n",
       "      <th>Price per Unit</th>\n",
       "      <th>Total Sales</th>\n",
       "      <th>Units Sold</th>\n",
       "    </tr>\n",
       "  </thead>\n",
       "  <tbody>\n",
       "    <tr>\n",
       "      <th>0</th>\n",
       "      <td>01-01-2020</td>\n",
       "      <td>Men's Street Footwear</td>\n",
       "      <td>Northeast</td>\n",
       "      <td>Foot Locker</td>\n",
       "      <td>In-store</td>\n",
       "      <td>New York</td>\n",
       "      <td>50</td>\n",
       "      <td>6000</td>\n",
       "      <td>120</td>\n",
       "    </tr>\n",
       "    <tr>\n",
       "      <th>1</th>\n",
       "      <td>02-01-2020</td>\n",
       "      <td>Men's Athletic Footwear</td>\n",
       "      <td>Northeast</td>\n",
       "      <td>Foot Locker</td>\n",
       "      <td>In-store</td>\n",
       "      <td>New York</td>\n",
       "      <td>50</td>\n",
       "      <td>5000</td>\n",
       "      <td>100</td>\n",
       "    </tr>\n",
       "    <tr>\n",
       "      <th>2</th>\n",
       "      <td>03-01-2020</td>\n",
       "      <td>Women's Street Footwear</td>\n",
       "      <td>Northeast</td>\n",
       "      <td>Foot Locker</td>\n",
       "      <td>In-store</td>\n",
       "      <td>New York</td>\n",
       "      <td>40</td>\n",
       "      <td>4000</td>\n",
       "      <td>100</td>\n",
       "    </tr>\n",
       "    <tr>\n",
       "      <th>3</th>\n",
       "      <td>04-01-2020</td>\n",
       "      <td>Women's Athletic Footwear</td>\n",
       "      <td>Northeast</td>\n",
       "      <td>Foot Locker</td>\n",
       "      <td>In-store</td>\n",
       "      <td>New York</td>\n",
       "      <td>45</td>\n",
       "      <td>3825</td>\n",
       "      <td>85</td>\n",
       "    </tr>\n",
       "    <tr>\n",
       "      <th>4</th>\n",
       "      <td>05-01-2020</td>\n",
       "      <td>Men's Apparel</td>\n",
       "      <td>Northeast</td>\n",
       "      <td>Foot Locker</td>\n",
       "      <td>In-store</td>\n",
       "      <td>New York</td>\n",
       "      <td>60</td>\n",
       "      <td>5400</td>\n",
       "      <td>90</td>\n",
       "    </tr>\n",
       "  </tbody>\n",
       "</table>\n",
       "</div>"
      ],
      "text/plain": [
       "  Invoice Date                    Product     Region     Retailer  \\\n",
       "0   01-01-2020      Men's Street Footwear  Northeast  Foot Locker   \n",
       "1   02-01-2020    Men's Athletic Footwear  Northeast  Foot Locker   \n",
       "2   03-01-2020    Women's Street Footwear  Northeast  Foot Locker   \n",
       "3   04-01-2020  Women's Athletic Footwear  Northeast  Foot Locker   \n",
       "4   05-01-2020              Men's Apparel  Northeast  Foot Locker   \n",
       "\n",
       "  Sales Method     State  Price per Unit  Total Sales  Units Sold  \n",
       "0     In-store  New York              50         6000         120  \n",
       "1     In-store  New York              50         5000         100  \n",
       "2     In-store  New York              40         4000         100  \n",
       "3     In-store  New York              45         3825          85  \n",
       "4     In-store  New York              60         5400          90  "
      ]
     },
     "execution_count": 10,
     "metadata": {},
     "output_type": "execute_result"
    }
   ],
   "source": [
    "df1.head()"
   ]
  },
  {
   "cell_type": "code",
   "execution_count": 11,
   "metadata": {},
   "outputs": [
    {
     "data": {
      "text/plain": [
       "0"
      ]
     },
     "execution_count": 11,
     "metadata": {},
     "output_type": "execute_result"
    }
   ],
   "source": [
    "#Verificar duplicados\n",
    "df.duplicated().sum()"
   ]
  },
  {
   "cell_type": "code",
   "execution_count": 12,
   "metadata": {},
   "outputs": [
    {
     "data": {
      "text/plain": [
       "0"
      ]
     },
     "execution_count": 12,
     "metadata": {},
     "output_type": "execute_result"
    }
   ],
   "source": [
    "df1.duplicated().sum()"
   ]
  },
  {
   "cell_type": "code",
   "execution_count": 13,
   "metadata": {},
   "outputs": [
    {
     "data": {
      "text/plain": [
       "<Axes: >"
      ]
     },
     "execution_count": 13,
     "metadata": {},
     "output_type": "execute_result"
    },
    {
     "data": {
      "image/png": "[encoded data removed]",
      "text/plain": [
       "<Figure size 640x480 with 1 Axes>"
      ]
     },
     "metadata": {},
     "output_type": "display_data"
    }
   ],
   "source": [
    "#Verificacion de valores nulos\n",
    "sns.heatmap(df.isnull(), cbar=False)"
   ]
  },
  {
   "cell_type": "code",
   "execution_count": 14,
   "metadata": {},
   "outputs": [
    {
     "data": {
      "text/plain": [
       "URL               object\n",
       "Product Name      object\n",
       "Product ID        object\n",
       "Listing Price      int64\n",
       "Sale Price         int64\n",
       "Discount           int64\n",
       "Brand             object\n",
       "Description       object\n",
       "Rating           float64\n",
       "Reviews            int64\n",
       "Images            object\n",
       "Last Visited      object\n",
       "dtype: object"
      ]
     },
     "execution_count": 14,
     "metadata": {},
     "output_type": "execute_result"
    }
   ],
   "source": [
    "df.dtypes"
   ]
  },
  {
   "cell_type": "code",
   "execution_count": 15,
   "metadata": {},
   "outputs": [
    {
     "data": {
      "text/plain": [
       "<Axes: >"
      ]
     },
     "execution_count": 15,
     "metadata": {},
     "output_type": "execute_result"
    },
    {
     "data": {
      "image/png": "[encoded data removed]",
      "text/plain": [
       "<Figure size 640x480 with 1 Axes>"
      ]
     },
     "metadata": {},
     "output_type": "display_data"
    }
   ],
   "source": [
    "#Verificacion de valores nulos df1\n",
    "sns.heatmap(df1.isnull(), cbar=False)"
   ]
  },
  {
   "cell_type": "code",
   "execution_count": 16,
   "metadata": {},
   "outputs": [
    {
     "data": {
      "text/plain": [
       "Invoice Date      object\n",
       "Product           object\n",
       "Region            object\n",
       "Retailer          object\n",
       "Sales Method      object\n",
       "State             object\n",
       "Price per Unit     int64\n",
       "Total Sales        int64\n",
       "Units Sold         int64\n",
       "dtype: object"
      ]
     },
     "execution_count": 16,
     "metadata": {},
     "output_type": "execute_result"
    }
   ],
   "source": [
    "df1.dtypes"
   ]
  },
  {
   "cell_type": "markdown",
   "metadata": {},
   "source": [
    "* Verificar archivos del segundo grupo"
   ]
  },
  {
   "cell_type": "code",
   "execution_count": 17,
   "metadata": {},
   "outputs": [
    {
     "data": {
      "text/plain": [
       "(3268, 10)"
      ]
     },
     "execution_count": 17,
     "metadata": {},
     "output_type": "execute_result"
    }
   ],
   "source": [
    "df_adi_nik.shape"
   ]
  },
  {
   "cell_type": "code",
   "execution_count": 18,
   "metadata": {},
   "outputs": [
    {
     "data": {
      "text/plain": [
       "Index(['Product Name', 'Product ID', 'Listing Price', 'Sale Price', 'Discount',\n",
       "       'Brand', 'Description', 'Rating', 'Reviews', 'Last Visited'],\n",
       "      dtype='object')"
      ]
     },
     "execution_count": 18,
     "metadata": {},
     "output_type": "execute_result"
    }
   ],
   "source": [
    "df_adi_nik.columns"
   ]
  },
  {
   "cell_type": "code",
   "execution_count": 19,
   "metadata": {},
   "outputs": [
    {
     "data": {
      "text/html": [
       "<div>\n",
       "<style scoped>\n",
       "    .dataframe tbody tr th:only-of-type {\n",
       "        vertical-align: middle;\n",
       "    }\n",
       "\n",
       "    .dataframe tbody tr th {\n",
       "        vertical-align: top;\n",
       "    }\n",
       "\n",
       "    .dataframe thead th {\n",
       "        text-align: right;\n",
       "    }\n",
       "</style>\n",
       "<table border=\"1\" class=\"dataframe\">\n",
       "  <thead>\n",
       "    <tr style=\"text-align: right;\">\n",
       "      <th></th>\n",
       "      <th>Product Name</th>\n",
       "      <th>Product ID</th>\n",
       "      <th>Listing Price</th>\n",
       "      <th>Sale Price</th>\n",
       "      <th>Discount</th>\n",
       "      <th>Brand</th>\n",
       "      <th>Description</th>\n",
       "      <th>Rating</th>\n",
       "      <th>Reviews</th>\n",
       "      <th>Last Visited</th>\n",
       "    </tr>\n",
       "  </thead>\n",
       "  <tbody>\n",
       "    <tr>\n",
       "      <th>0</th>\n",
       "      <td>Women's adidas Originals NMD_Racer Primeknit S...</td>\n",
       "      <td>AH2430</td>\n",
       "      <td>14999</td>\n",
       "      <td>7499</td>\n",
       "      <td>50</td>\n",
       "      <td>Adidas Adidas ORIGINALS</td>\n",
       "      <td>Channeling the streamlined look of an '80s rac...</td>\n",
       "      <td>4.8</td>\n",
       "      <td>41</td>\n",
       "      <td>2020-04-13T15:06:14</td>\n",
       "    </tr>\n",
       "  </tbody>\n",
       "</table>\n",
       "</div>"
      ],
      "text/plain": [
       "                                        Product Name Product ID  \\\n",
       "0  Women's adidas Originals NMD_Racer Primeknit S...     AH2430   \n",
       "\n",
       "   Listing Price  Sale Price  Discount                    Brand  \\\n",
       "0          14999        7499        50  Adidas Adidas ORIGINALS   \n",
       "\n",
       "                                         Description  Rating  Reviews  \\\n",
       "0  Channeling the streamlined look of an '80s rac...     4.8       41   \n",
       "\n",
       "          Last Visited  \n",
       "0  2020-04-13T15:06:14  "
      ]
     },
     "execution_count": 19,
     "metadata": {},
     "output_type": "execute_result"
    }
   ],
   "source": [
    "df_adi_nik.head(1)"
   ]
  },
  {
   "cell_type": "code",
   "execution_count": 20,
   "metadata": {},
   "outputs": [
    {
     "data": {
      "text/plain": [
       "0"
      ]
     },
     "execution_count": 20,
     "metadata": {},
     "output_type": "execute_result"
    }
   ],
   "source": [
    "df_adi_nik.duplicated().sum()"
   ]
  },
  {
   "cell_type": "code",
   "execution_count": 21,
   "metadata": {},
   "outputs": [
    {
     "data": {
      "text/plain": [
       "<Axes: >"
      ]
     },
     "execution_count": 21,
     "metadata": {},
     "output_type": "execute_result"
    },
    {
     "data": {
      "image/png": "[encoded data removed]",
      "text/plain": [
       "<Figure size 640x480 with 1 Axes>"
      ]
     },
     "metadata": {},
     "output_type": "display_data"
    }
   ],
   "source": [
    "#Verificacion de valores nulos df_adi_nik\n",
    "sns.heatmap(df_adi_nik.isnull(), cbar=False)"
   ]
  },
  {
   "cell_type": "code",
   "execution_count": 22,
   "metadata": {},
   "outputs": [
    {
     "data": {
      "text/plain": [
       "Product Name      object\n",
       "Product ID        object\n",
       "Listing Price      int64\n",
       "Sale Price         int64\n",
       "Discount           int64\n",
       "Brand             object\n",
       "Description       object\n",
       "Rating           float64\n",
       "Reviews            int64\n",
       "Last Visited      object\n",
       "dtype: object"
      ]
     },
     "execution_count": 22,
     "metadata": {},
     "output_type": "execute_result"
    }
   ],
   "source": [
    "df_adi_nik.dtypes"
   ]
  },
  {
   "cell_type": "code",
   "execution_count": 23,
   "metadata": {},
   "outputs": [
    {
     "data": {
      "text/plain": [
       "(639, 16)"
      ]
     },
     "execution_count": 23,
     "metadata": {},
     "output_type": "execute_result"
    }
   ],
   "source": [
    "df_manuf.shape"
   ]
  },
  {
   "cell_type": "code",
   "execution_count": 24,
   "metadata": {},
   "outputs": [
    {
     "data": {
      "text/plain": [
       "Index(['Factory Name', 'Factory Type', 'Product Type Type',\n",
       "       'Nike, Inc. Brand(s)', 'Events', 'Supplier Group', 'Address', 'City',\n",
       "       'State', 'Postal Code', 'Country / Region', 'Region', 'Total Workers',\n",
       "       'Line Workers', '% Female Workers', '% Migrant Workers'],\n",
       "      dtype='object')"
      ]
     },
     "execution_count": 24,
     "metadata": {},
     "output_type": "execute_result"
    }
   ],
   "source": [
    "df_manuf.columns"
   ]
  },
  {
   "cell_type": "code",
   "execution_count": 25,
   "metadata": {},
   "outputs": [
    {
     "data": {
      "text/html": [
       "<div>\n",
       "<style scoped>\n",
       "    .dataframe tbody tr th:only-of-type {\n",
       "        vertical-align: middle;\n",
       "    }\n",
       "\n",
       "    .dataframe tbody tr th {\n",
       "        vertical-align: top;\n",
       "    }\n",
       "\n",
       "    .dataframe thead th {\n",
       "        text-align: right;\n",
       "    }\n",
       "</style>\n",
       "<table border=\"1\" class=\"dataframe\">\n",
       "  <thead>\n",
       "    <tr style=\"text-align: right;\">\n",
       "      <th></th>\n",
       "      <th>Factory Name</th>\n",
       "      <th>Factory Type</th>\n",
       "      <th>Product Type Type</th>\n",
       "      <th>Nike, Inc. Brand(s)</th>\n",
       "      <th>Events</th>\n",
       "      <th>Supplier Group</th>\n",
       "      <th>Address</th>\n",
       "      <th>City</th>\n",
       "      <th>State</th>\n",
       "      <th>Postal Code</th>\n",
       "      <th>Country / Region</th>\n",
       "      <th>Region</th>\n",
       "      <th>Total Workers</th>\n",
       "      <th>Line Workers</th>\n",
       "      <th>% Female Workers</th>\n",
       "      <th>% Migrant Workers</th>\n",
       "    </tr>\n",
       "  </thead>\n",
       "  <tbody>\n",
       "    <tr>\n",
       "      <th>0</th>\n",
       "      <td>A &amp; K Designs, Inc.</td>\n",
       "      <td>FINISHED GOODS</td>\n",
       "      <td>Apparel</td>\n",
       "      <td>Nike</td>\n",
       "      <td>NaN</td>\n",
       "      <td>A &amp; K DESIGNS</td>\n",
       "      <td>8564 NE Alderwood Road</td>\n",
       "      <td>Portland</td>\n",
       "      <td>Oregon</td>\n",
       "      <td>97220</td>\n",
       "      <td>USA</td>\n",
       "      <td>AMERICAS</td>\n",
       "      <td>111</td>\n",
       "      <td>95</td>\n",
       "      <td>73</td>\n",
       "      <td>0</td>\n",
       "    </tr>\n",
       "  </tbody>\n",
       "</table>\n",
       "</div>"
      ],
      "text/plain": [
       "          Factory Name    Factory Type Product Type Type Nike, Inc. Brand(s)  \\\n",
       "0  A & K Designs, Inc.  FINISHED GOODS           Apparel                Nike   \n",
       "\n",
       "  Events Supplier Group                 Address      City   State Postal Code  \\\n",
       "0    NaN  A & K DESIGNS  8564 NE Alderwood Road  Portland  Oregon       97220   \n",
       "\n",
       "  Country / Region    Region  Total Workers  Line Workers % Female Workers  \\\n",
       "0              USA  AMERICAS            111            95               73   \n",
       "\n",
       "   % Migrant Workers  \n",
       "0                  0  "
      ]
     },
     "execution_count": 25,
     "metadata": {},
     "output_type": "execute_result"
    }
   ],
   "source": [
    "df_manuf.head(1)"
   ]
  },
  {
   "cell_type": "code",
   "execution_count": 26,
   "metadata": {},
   "outputs": [
    {
     "data": {
      "text/plain": [
       "0"
      ]
     },
     "execution_count": 26,
     "metadata": {},
     "output_type": "execute_result"
    }
   ],
   "source": [
    "df_manuf.duplicated().sum()"
   ]
  },
  {
   "cell_type": "code",
   "execution_count": 27,
   "metadata": {},
   "outputs": [
    {
     "data": {
      "text/plain": [
       "<Axes: >"
      ]
     },
     "execution_count": 27,
     "metadata": {},
     "output_type": "execute_result"
    },
    {
     "data": {
      "image/png": "[encoded data removed]",
      "text/plain": [
       "<Figure size 640x480 with 1 Axes>"
      ]
     },
     "metadata": {},
     "output_type": "display_data"
    }
   ],
   "source": [
    "#Verificacion de valores nulos df_manuf\n",
    "sns.heatmap(df_manuf.isnull(), cbar=False)"
   ]
  },
  {
   "cell_type": "code",
   "execution_count": 28,
   "metadata": {},
   "outputs": [
    {
     "data": {
      "text/plain": [
       "Factory Name           object\n",
       "Factory Type           object\n",
       "Product Type Type      object\n",
       "Nike, Inc. Brand(s)    object\n",
       "Events                 object\n",
       "Supplier Group         object\n",
       "Address                object\n",
       "City                   object\n",
       "State                  object\n",
       "Postal Code            object\n",
       "Country / Region       object\n",
       "Region                 object\n",
       "Total Workers           int64\n",
       "Line Workers            int64\n",
       "% Female Workers       object\n",
       "% Migrant Workers       int64\n",
       "dtype: object"
      ]
     },
     "execution_count": 28,
     "metadata": {},
     "output_type": "execute_result"
    }
   ],
   "source": [
    "df_manuf.dtypes"
   ]
  },
  {
   "cell_type": "markdown",
   "metadata": {},
   "source": [
    "## 4. Preprocesamiento"
   ]
  },
  {
   "cell_type": "markdown",
   "metadata": {},
   "source": [
    "Comenzaremos por realizar el procesamiento exhaustivo de los datos, lo que implica  manejar valores faltantes, eliminar duplicados, corregir posibles errores en los datos y formatear adecuadamente los tipos de datos según sea necesario. Este paso es crucial para garantizar la calidad y la integridad de nuestros datos antes de realizar cualquier análisis."
   ]
  },
  {
   "cell_type": "code",
   "execution_count": 29,
   "metadata": {},
   "outputs": [],
   "source": [
    "#Hacer un df copia y eliminar columnas innecesarias\n",
    "nike_product = df.copy()\n",
    "nike_product.drop(['URL' , 'Listing Price', \n",
    "'Discount', 'Brand'] , axis=1, inplace=True)"
   ]
  },
  {
   "cell_type": "code",
   "execution_count": 30,
   "metadata": {},
   "outputs": [
    {
     "data": {
      "text/plain": [
       "71"
      ]
     },
     "execution_count": 30,
     "metadata": {},
     "output_type": "execute_result"
    }
   ],
   "source": [
    "nike_product['Images'].isnull().sum()"
   ]
  },
  {
   "cell_type": "code",
   "execution_count": 31,
   "metadata": {},
   "outputs": [
    {
     "data": {
      "text/plain": [
       "3"
      ]
     },
     "execution_count": 31,
     "metadata": {},
     "output_type": "execute_result"
    }
   ],
   "source": [
    "nike_product['Description'].isnull().sum()"
   ]
  },
  {
   "cell_type": "code",
   "execution_count": null,
   "metadata": {},
   "outputs": [],
   "source": [
    "nike_product['Images'].fillna('No Image', inplace=True)\n",
    "nike_product['Description'].fillna('No Description', inplace=True)\n"
   ]
  },
  {
   "cell_type": "code",
   "execution_count": 33,
   "metadata": {},
   "outputs": [
    {
     "data": {
      "text/plain": [
       "array([ 7495,  9995,  5995, 15995, 14995, 10495,  7995, 16995,  5495,\n",
       "        5597, 10995, 11995, 18995,  2495,  1995, 11997, 13995,  8995,\n",
       "        7595,  6495, 12995, 22995, 11197,  4995,  6995, 24995,  8397,\n",
       "        7797,  5997,  8795,  7697, 13597,  6997,  9597,  8495,  4797,\n",
       "        8797,  6597, 12797,  5947, 20995, 10497,  3997,  7197,  1595,\n",
       "       15197,  9637, 13495,  5247, 14495,  4497,  5295, 21995,  7997,\n",
       "        8997,  6397, 14397,  3995, 10197,  4495,  5397,  9495,  7295,\n",
       "        3497, 15997,  6297,  2795, 19995,  4897,  2097, 11897,  9097,\n",
       "       10397,  6595,  9797, 12597,  3147, 17995, 13297,  3597,  6317,\n",
       "        4197,  2397,  4547,  3357,  2995,  3695,  6797, 36500,  3197,\n",
       "        7597], dtype=int64)"
      ]
     },
     "execution_count": 33,
     "metadata": {},
     "output_type": "execute_result"
    }
   ],
   "source": [
    "nike_product['Sale Price'].unique()"
   ]
  },
  {
   "cell_type": "code",
   "execution_count": 34,
   "metadata": {},
   "outputs": [
    {
     "data": {
      "text/plain": [
       "dtype('float64')"
      ]
     },
     "execution_count": 34,
     "metadata": {},
     "output_type": "execute_result"
    }
   ],
   "source": [
    "nike_product['Rating'].dtype"
   ]
  },
  {
   "cell_type": "code",
   "execution_count": 35,
   "metadata": {},
   "outputs": [
    {
     "name": "stdout",
     "output_type": "stream",
     "text": [
      "La columna 'Last Visited' está en formato de fecha.\n"
     ]
    }
   ],
   "source": [
    "columna_fecha = 'Last Visited'\n",
    "try:\n",
    "    nike_product[columna_fecha] = pd.to_datetime(nike_product[columna_fecha])\n",
    "    print(\"La columna '{}' está en formato de fecha.\".format(columna_fecha))\n",
    "except ValueError:\n",
    "    print(\"La columna '{}' no está en formato de fecha.\".format(columna_fecha))"
   ]
  },
  {
   "cell_type": "code",
   "execution_count": 36,
   "metadata": {},
   "outputs": [
    {
     "name": "stdout",
     "output_type": "stream",
     "text": [
      "Sale Price     5\n",
      "Reviews       15\n",
      "dtype: int64\n"
     ]
    }
   ],
   "source": [
    "# Detectar Outliers de las variables numericas\n",
    "def detectar_outlierscol(nike_product, cols):\n",
    "    z_scores = zscore(nike_product[cols])\n",
    "    abs_z_scores = np.abs(z_scores)\n",
    "    return (abs_z_scores > 3) | (abs_z_scores < -3)\n",
    "\n",
    "outliers = detectar_outlierscol(nike_product, ['Sale Price', 'Reviews'])\n",
    "outliers_sum = outliers.sum()\n",
    "print(outliers_sum)"
   ]
  },
  {
   "cell_type": "code",
   "execution_count": 37,
   "metadata": {},
   "outputs": [],
   "source": [
    "# Se corrige los outliers de las dos variables numericas\n",
    "def arreglar_outliers_simple(nike_product, cols):\n",
    "    \n",
    "    # Iteramos sobre cada columna del DataFrame\n",
    "    for col in cols:\n",
    "        # Calculamos los percentiles 25 y 75 (Q1 y Q3)\n",
    "        Q1 = nike_product[col].quantile(0.25)\n",
    "        Q3 = nike_product[col].quantile(0.75)\n",
    " \n",
    "        # Calculamos el rango intercuartílico (IQR)\n",
    "        IQR = Q3 - Q1\n",
    " \n",
    "        # Calculamos los límites del intervalo\n",
    "        lower_limit = Q1 - 1.5 * IQR\n",
    "        upper_limit = Q3 + 1.5 * IQR\n",
    " \n",
    "        # Reemplazamos los valores atípicos por los límites del intervalo\n",
    "        nike_product[col] = nike_product[col].apply(lambda x: lower_limit if x < lower_limit else (upper_limit if x > upper_limit else x))\n",
    " \n",
    "    return nike_product\n",
    "nike_product = arreglar_outliers_simple(nike_product, ['Sale Price', 'Reviews'])\n",
    "\n",
    "\n"
   ]
  },
  {
   "cell_type": "code",
   "execution_count": 38,
   "metadata": {},
   "outputs": [],
   "source": [
    "# Detectar Outliers en las variables categoricas\n",
    "def detectar_outlierscat(nike_product, cols):\n",
    "    outliers_dict = {}\n",
    "    for col in cols:\n",
    "        if nike_product[col].dtype == 'object':\n",
    "        \n",
    "            frecuencia_categorias = nike_product[col].value_counts()\n",
    "            \n",
    "            \n",
    "            percentil_95 = frecuencia_categorias.quantile(0.95)#Calcular el percentil\n",
    "            \n",
    "            categorias_outliers = frecuencia_categorias[frecuencia_categorias > percentil_95].index.tolist()\n",
    "            \n",
    "            outliers_dict[col] = categorias_outliers\n",
    "            \n",
    "    return outliers_dict\n"
   ]
  },
  {
   "cell_type": "code",
   "execution_count": 39,
   "metadata": {},
   "outputs": [
    {
     "name": "stdout",
     "output_type": "stream",
     "text": [
      "Columna 'Product Name': 16 outliers -> ['Nike Air Max 90', 'Nike Air Max 270 React', 'Nike Air Max 97', 'Nike Air Zoom Pegasus 36', 'Nike Air VaporMax 360', 'Nike Air Max 720', 'Nike MX-720-818', 'Nike Air Max 2090', 'Nike Metcon 5 AMP', 'Nike Zoom Pegasus Turbo 2', 'Nike Air Max 98', 'Nike Air Max 270 React ENG', 'Nike Free RN 5.0', 'Nike React Element 55 SE', \"Nike Air Force 1 '07\", 'Nike Mercurial Superfly 7 Elite SE FG']\n",
      "Columna 'Product ID': 1 outliers -> ['CD6720-808']\n",
      "Columna 'Description': 8 outliers -> ['The Nike Metcon 5 AMP arms you with stability for heavy lifting and traction for sprints during high-impact training. It combines breathability and durability to be your secret weapon in the gym.', 'Kevin Durant always looks relaxed—until he attacks. His game is reserved yet explosive, difficult to guard and impossible to stop. The KD12 was built for his dominance and endless energy all game long, with the latest innovation in Nike Zoom Air technology.', \"The Nike React Metcon takes the stability and traction from the training original and pairs it with Nike's most comfortable cushioning. Tackle high-impact and lifting workouts with a light, breathable upper and durable grip to keep you going.\", 'The Nike Joyride Run Flyknit is designed to help make running feel easier and give your legs a day off. Tiny foam beads underfoot contour to your foot for cushioning that stands up to your mileage.', 'Building on the 360-degree Flyknit innovation of the 12, the Nike Mercurial Vapor 13 Elite SE FG adds a Nike Aerowtrac zone to the forefoot and a slightly stiffer chassis to help supercharge traction.', 'No Description', 'The Nike Zoom Pegasus Turbo 2 is updated with a feather-light upper, while innovative foam brings revolutionary responsiveness to your long-distance training.', \"Clean lines, versatile and timeless—the people's shoe returns with the Nike Air Max 90. Featuring the same iconic Waffle sole, stitched overlays and classic TPU accents you've come to love, it lets you walk among the pantheon of Air.\"]\n",
      "Columna 'Images': 2 outliers -> ['No Image', '[\"https://static.nike.com/a/images/t_PDP_1728_v1/gusclobq2h8gdlp4vvnb/mercurial-vapor-13-elite-se-fg-football-boot-XDNvKq.jpg\",\"https://static.nike.com/a/images/t_PDP_1728_v1/zankg4bfh6n99mcke2gy/mercurial-vapor-13-elite-se-fg-football-boot-XDNvKq.jpg\",\"https://static.nike.com/a/images/t_PDP_1728_v1/x40fm1aoqzaxmxheaoat/mercurial-vapor-13-elite-se-fg-football-boot-XDNvKq.jpg\",\"https://static.nike.com/a/images/t_PDP_1728_v1/ejuqwh4nvhsskpwqnup7/mercurial-vapor-13-elite-se-fg-football-boot-XDNvKq.jpg\",\"https://static.nike.com/a/images/t_PDP_1728_v1/e7eckbq3ptrzdla2luqv/mercurial-vapor-13-elite-se-fg-football-boot-XDNvKq.jpg\",\"https://static.nike.com/a/images/t_PDP_1728_v1/zpp1yzhh4h7iav50jnyb/mercurial-vapor-13-elite-se-fg-football-boot-XDNvKq.jpg\",\"https://static.nike.com/a/images/t_PDP_1728_v1/uhxe5vauxi9wl6b0egew/mercurial-vapor-13-elite-se-fg-football-boot-XDNvKq.jpg\",\"https://static.nike.com/a/images/t_PDP_1728_v1/h0t57agzhvwiad08usf4/mercurial-vapor-13-elite-se-fg-football-boot-XDNvKq.jpg\"]']\n",
      "Suma de outliers en variables categóricas: 27\n"
     ]
    }
   ],
   "source": [
    "# Llamar a la función \n",
    "outliers_dict = detectar_outlierscat(nike_product, ['Product Name', 'Product ID','Description', 'Images'])\n",
    "\n",
    "# Imprimir el diccionario creado arriba\n",
    "for col, outliers in outliers_dict.items():\n",
    "    print(f\"Columna '{col}': {len(outliers)} outliers -> {outliers}\")\n",
    "\n",
    "# Sumar el número total de outliers encontrados en todas las columnas\n",
    "outliers_sum_cat = sum(len(valores) for valores in outliers_dict.values())\n",
    "\n",
    "print(\"Suma de outliers en variables categóricas:\", outliers_sum_cat)\n"
   ]
  },
  {
   "cell_type": "markdown",
   "metadata": {},
   "source": [
    "# Conclusión Datos de Nike_Product"
   ]
  },
  {
   "cell_type": "markdown",
   "metadata": {},
   "source": [
    "Se han verificado las columnas que si se van a utilizar como:\n",
    "- 'Sale price' no tiene valores duplicados, esta en formato int pero no sabemos que tipo de moneda es. \n",
    "- 'Review' esta en formato int. Es una varaible interesante para correlacionar con el precio. \n",
    "- 'Rating' esta en float. Tambien se podrá correlacionar\n",
    "- 'Last Visited' se verifica si está en formato fecha y se comprueba que si. \n",
    "- Se verifica los outliers de las variables numericas y se corrigen ambas. Esta decisión solo se toma en este DF porque con estos datos no se realizaran modelos predictivos. Se usarán para la App que se creará. \n",
    "- Se verifica los outliers de las variables categoricas y se han encontrado outliers en cuatro columnas categóricas diferentes:\n",
    "Se han encontrado 16 outliers en la columna 'Product Name'.\n",
    "Se ha encontrado 1 outlier en la columna 'Product ID'.\n",
    "Se han encontrado 7 outliers en la columna 'Description'.\n",
    "Se ha encontrado 1 outlier en la columna 'Images'.\n",
    "\n",
    "Total de outliers en variables categóricas: 25:\n"
   ]
  },
  {
   "cell_type": "markdown",
   "metadata": {},
   "source": [
    "Con respecto a los outliers de las variables categoricas se identifican pero no se modifican ya que al ser tipo string tienen descripciones relevantes para el análisis y los siguientes pasos a tomar."
   ]
  },
  {
   "cell_type": "code",
   "execution_count": 40,
   "metadata": {},
   "outputs": [],
   "source": [
    "#Hacer un df copia \n",
    "nike_sales = df1.copy()\n"
   ]
  },
  {
   "cell_type": "code",
   "execution_count": 41,
   "metadata": {},
   "outputs": [
    {
     "data": {
      "text/plain": [
       "0    01-01-2020\n",
       "1    02-01-2020\n",
       "2    03-01-2020\n",
       "3    04-01-2020\n",
       "4    05-01-2020\n",
       "Name: Invoice Date, dtype: object"
      ]
     },
     "execution_count": 41,
     "metadata": {},
     "output_type": "execute_result"
    }
   ],
   "source": [
    "nike_sales['Invoice Date'].head()"
   ]
  },
  {
   "cell_type": "code",
   "execution_count": 42,
   "metadata": {},
   "outputs": [
    {
     "name": "stdout",
     "output_type": "stream",
     "text": [
      "La columna 'Invoice Date' no está en formato de fecha.\n"
     ]
    }
   ],
   "source": [
    "columna_fecha2 = 'Invoice Date'\n",
    "try:\n",
    "    nike_sales[columna_fecha2] = pd.to_datetime(nike_sales[columna_fecha2])\n",
    "    print(\"La columna '{}' está en formato de fecha.\".format(columna_fecha2))\n",
    "except ValueError:\n",
    "    print(\"La columna '{}' no está en formato de fecha.\".format(columna_fecha2))"
   ]
  },
  {
   "cell_type": "code",
   "execution_count": 43,
   "metadata": {},
   "outputs": [],
   "source": [
    "nike_sales['Invoice Date'] = pd.to_datetime(nike_sales['Invoice Date'], format='%d-%m-%Y')\n"
   ]
  },
  {
   "cell_type": "code",
   "execution_count": 44,
   "metadata": {},
   "outputs": [
    {
     "data": {
      "text/plain": [
       "0    120\n",
       "Name: Units Sold, dtype: int64"
      ]
     },
     "execution_count": 44,
     "metadata": {},
     "output_type": "execute_result"
    }
   ],
   "source": [
    "nike_sales['Units Sold'].head(1)"
   ]
  },
  {
   "cell_type": "code",
   "execution_count": 58,
   "metadata": {},
   "outputs": [
    {
     "data": {
      "text/plain": [
       "Index(['Invoice Date', 'Product', 'Region', 'Retailer', 'Sales Method',\n",
       "       'State', 'Price per Unit', 'Total Sales', 'Units Sold'],\n",
       "      dtype='object')"
      ]
     },
     "execution_count": 58,
     "metadata": {},
     "output_type": "execute_result"
    }
   ],
   "source": [
    "nike_sales.columns"
   ]
  },
  {
   "cell_type": "code",
   "execution_count": 59,
   "metadata": {},
   "outputs": [
    {
     "name": "stdout",
     "output_type": "stream",
     "text": [
      "Price per Unit     57\n",
      "Total Sales       181\n",
      "Units Sold        116\n",
      "dtype: int64\n"
     ]
    }
   ],
   "source": [
    "# Detectar Outliers de las variables numericas\n",
    "def detectar_outlierscol(nike_sales, cols):\n",
    "    z_scores = zscore(nike_sales[cols])\n",
    "    abs_z_scores = np.abs(z_scores)\n",
    "    return (abs_z_scores > 3) | (abs_z_scores < -3)\n",
    "\n",
    "outliers = detectar_outlierscol(nike_sales, ['Price per Unit', 'Total Sales', 'Units Sold'])\n",
    "outliers_sum = outliers.sum()\n",
    "print(outliers_sum)"
   ]
  },
  {
   "cell_type": "code",
   "execution_count": 61,
   "metadata": {},
   "outputs": [],
   "source": [
    "# Se corrige los outliers de las dos variables numericas\n",
    "def arreglar_outliers_simple(nike_sales, cols):\n",
    "    \n",
    "    # Iteramos sobre cada columna del DataFrame\n",
    "    for col in cols:\n",
    "        # Calculamos los percentiles 25 y 75 (Q1 y Q3)\n",
    "        Q1 = nike_sales[col].quantile(0.25)\n",
    "        Q3 = nike_sales[col].quantile(0.75)\n",
    " \n",
    "        # Calculamos el rango intercuartílico (IQR)\n",
    "        IQR = Q3 - Q1\n",
    " \n",
    "        # Calculamos los límites del intervalo\n",
    "        lower_limit = Q1 - 1.5 * IQR\n",
    "        upper_limit = Q3 + 1.5 * IQR\n",
    " \n",
    "        # Reemplazamos los valores atípicos por los límites del intervalo\n",
    "        nike_sales[col] = nike_sales[col].apply(lambda x: lower_limit if x < lower_limit else (upper_limit if x > upper_limit else x))\n",
    " \n",
    "    return nike_sales\n",
    "nike_sales = arreglar_outliers_simple(nike_sales, [ 'Total Sales', 'Units Sold'])\n"
   ]
  },
  {
   "cell_type": "code",
   "execution_count": 63,
   "metadata": {},
   "outputs": [
    {
     "name": "stdout",
     "output_type": "stream",
     "text": [
      "Price per Unit    57\n",
      "Total Sales        0\n",
      "Units Sold         0\n",
      "dtype: int64\n"
     ]
    }
   ],
   "source": [
    "# Verificacion \n",
    "outliers = detectar_outlierscol(nike_sales, ['Price per Unit', 'Total Sales', 'Units Sold'])\n",
    "outliers_sum = outliers.sum()\n",
    "print(outliers_sum)"
   ]
  },
  {
   "cell_type": "code",
   "execution_count": 64,
   "metadata": {},
   "outputs": [],
   "source": [
    "def detectar_outlierscat(nike_sales, cols):\n",
    "    outliers_dict1 = {}\n",
    "    for col in cols:\n",
    "        if nike_sales[col].dtype == 'object':\n",
    "        \n",
    "            frecuencia_categorias = nike_sales[col].value_counts()\n",
    "            \n",
    "            \n",
    "            percentil_95 = frecuencia_categorias.quantile(0.95)#Calcular el percentil\n",
    "            \n",
    "            categorias_outliers = frecuencia_categorias[frecuencia_categorias > percentil_95].index.tolist()\n",
    "            \n",
    "            outliers_dict1[col] = categorias_outliers\n",
    "            \n",
    "    return outliers_dict1"
   ]
  },
  {
   "cell_type": "code",
   "execution_count": 66,
   "metadata": {},
   "outputs": [
    {
     "name": "stdout",
     "output_type": "stream",
     "text": [
      "Columna 'Product': 0 outliers -> []\n",
      "Columna 'Region': 1 outliers -> ['Northeast']\n",
      "Columna 'Retailer': 1 outliers -> ['Foot Locker']\n",
      "Columna 'Sales Method': 1 outliers -> ['Online']\n",
      "Columna 'State': 2 outliers -> ['California', 'Texas']\n",
      "Suma de outliers en variables categóricas: 5\n"
     ]
    }
   ],
   "source": [
    "# Llamar a la función \n",
    "outliers_dict1 = detectar_outlierscat(nike_sales, ['Product', 'Region','Retailer', 'Sales Method', 'State'])\n",
    "\n",
    "# Imprimir el diccionario creado arriba\n",
    "for col, outliers in outliers_dict1.items():\n",
    "    print(f\"Columna '{col}': {len(outliers)} outliers -> {outliers}\")\n",
    "\n",
    "# Sumar el número total de outliers encontrados en todas las columnas\n",
    "outliers_sum_cat1 = sum(len(valores) for valores in outliers_dict1.values())\n",
    "\n",
    "print(\"Suma de outliers en variables categóricas:\", outliers_sum_cat1)"
   ]
  },
  {
   "cell_type": "markdown",
   "metadata": {},
   "source": [
    "# Conclusión"
   ]
  },
  {
   "cell_type": "markdown",
   "metadata": {},
   "source": [
    "Se verifican las columnas:\n",
    "- 'Invoice Date' y se verifica que no está en formato fecha, por eso se procede a modificarla. \n",
    "- 'Price per Unit' se verifica que este en int y además que no tenga ningún simbolo\n",
    "- 'Total Sales' mismo procedimiento que la columna anterior\n",
    "- Se verifican los outliers de las variables numericas y se identifican en tres de ellas. Se arreglan en dos y se deja tal como está la variable Y ('Price per Unit)\n",
    "- Se verifican los outliers de las varibales categoricas y se identifican 5 datos inusuales. En este caso solo se identifican pero no se modifican ya que no se observan errores.\n",
    "\n",
    "\n"
   ]
  },
  {
   "cell_type": "code",
   "execution_count": 45,
   "metadata": {},
   "outputs": [],
   "source": [
    "#Hacer un df copia y eliminar columnas innecesarias\n",
    "adidas_nike = df_adi_nik.copy()\n",
    "adidas_nike.drop(['Product ID'], axis=1, inplace=True)"
   ]
  },
  {
   "cell_type": "code",
   "execution_count": 46,
   "metadata": {},
   "outputs": [
    {
     "data": {
      "text/plain": [
       "3267    2020-04-13T15:42:57\n",
       "Name: Last Visited, dtype: object"
      ]
     },
     "execution_count": 46,
     "metadata": {},
     "output_type": "execute_result"
    }
   ],
   "source": [
    "adidas_nike['Last Visited'].tail(1)"
   ]
  },
  {
   "cell_type": "code",
   "execution_count": 47,
   "metadata": {},
   "outputs": [
    {
     "name": "stdout",
     "output_type": "stream",
     "text": [
      "La columna 'Last Visited' está en formato de fecha.\n"
     ]
    }
   ],
   "source": [
    "columna_fecha3 = 'Last Visited'\n",
    "try:\n",
    "    adidas_nike[columna_fecha3] = pd.to_datetime(adidas_nike[columna_fecha3])\n",
    "    print(\"La columna '{}' está en formato de fecha.\".format(columna_fecha3))\n",
    "except ValueError:\n",
    "    print(\"La columna '{}' no está en formato de fecha.\".format(columna_fecha3))"
   ]
  },
  {
   "cell_type": "code",
   "execution_count": 48,
   "metadata": {},
   "outputs": [
    {
     "data": {
      "text/plain": [
       "0    50\n",
       "Name: Discount, dtype: int64"
      ]
     },
     "execution_count": 48,
     "metadata": {},
     "output_type": "execute_result"
    }
   ],
   "source": [
    "adidas_nike['Discount'].head(1)"
   ]
  },
  {
   "cell_type": "code",
   "execution_count": 49,
   "metadata": {},
   "outputs": [
    {
     "data": {
      "text/plain": [
       "0    7499\n",
       "Name: Sale Price, dtype: int64"
      ]
     },
     "execution_count": 49,
     "metadata": {},
     "output_type": "execute_result"
    }
   ],
   "source": [
    "adidas_nike['Sale Price'].head(1)"
   ]
  },
  {
   "cell_type": "code",
   "execution_count": 50,
   "metadata": {},
   "outputs": [
    {
     "data": {
      "text/plain": [
       "0    14999\n",
       "Name: Listing Price, dtype: int64"
      ]
     },
     "execution_count": 50,
     "metadata": {},
     "output_type": "execute_result"
    }
   ],
   "source": [
    "adidas_nike['Listing Price'].head(1)"
   ]
  },
  {
   "cell_type": "code",
   "execution_count": 68,
   "metadata": {},
   "outputs": [
    {
     "name": "stdout",
     "output_type": "stream",
     "text": [
      "Listing Price    30\n",
      "Sale Price       47\n",
      "Discount          0\n",
      "Rating            0\n",
      "dtype: int64\n"
     ]
    }
   ],
   "source": [
    "# Detectar Outliers de las variables numericas\n",
    "def detectar_outlierscol(adidas_nike, cols):\n",
    "    z_scores = zscore(adidas_nike[cols])\n",
    "    abs_z_scores = np.abs(z_scores)\n",
    "    return (abs_z_scores > 3) | (abs_z_scores < -3)\n",
    "\n",
    "outliers = detectar_outlierscol(adidas_nike, ['Listing Price', 'Sale Price', 'Discount', 'Rating'])\n",
    "outliers_sum = outliers.sum()\n",
    "print(outliers_sum)"
   ]
  },
  {
   "cell_type": "code",
   "execution_count": 89,
   "metadata": {},
   "outputs": [
    {
     "data": {
      "image/png": "[encoded data removed]",
      "text/plain": [
       "<Figure size 1000x500 with 1 Axes>"
      ]
     },
     "metadata": {},
     "output_type": "display_data"
    }
   ],
   "source": [
    "# Visualizar la deviacion de la variable 'Sale Price'\n",
    "plt.figure(figsize=(10, 5))  # Tamaño del gráfico\n",
    "sns.set(style=\"darkgrid\")  # Estilo de la cuadrícula de Seaborn\n",
    "fig = sns.boxplot(x=\"Sale Price\", data=adidas_nike , color = '#999999')  # Crear el gráfico de cajas y bigotes color gris\n",
    "fig.set_xlabel('Precios', fontsize=14)\n",
    "plt.show()"
   ]
  },
  {
   "cell_type": "code",
   "execution_count": 77,
   "metadata": {},
   "outputs": [],
   "source": [
    "# Se corrige los outliers solo una variable numerica\n",
    "def arreglar_outliers_simple(adidas_nike, cols):\n",
    "    \n",
    "    # Iteramos sobre cada columna del DataFrame\n",
    "    for col in cols:\n",
    "        # Calculamos los percentiles 25 y 75 (Q1 y Q3)\n",
    "        Q1 = adidas_nike[col].quantile(0.25)\n",
    "        Q3 = adidas_nike[col].quantile(0.75)\n",
    " \n",
    "        # Calculamos el rango intercuartílico (IQR)\n",
    "        IQR = Q3 - Q1\n",
    " \n",
    "        # Calculamos los límites del intervalo\n",
    "        lower_limit = Q1 - 1.5 * IQR\n",
    "        upper_limit = Q3 + 1.5 * IQR\n",
    " \n",
    "        # Reemplazamos los valores atípicos por los límites del intervalo\n",
    "        adidas_nike[col] = adidas_nike[col].apply(lambda x: lower_limit if x < lower_limit else (upper_limit if x > upper_limit else x))\n",
    " \n",
    "    return adidas_nike\n",
    "adidas_nike = arreglar_outliers_simple(adidas_nike, ['Listing Price',])"
   ]
  },
  {
   "cell_type": "code",
   "execution_count": 76,
   "metadata": {},
   "outputs": [],
   "source": [
    "def detectar_outlierscat(adidas_nike, cols):\n",
    "    outliers_dict2 = {}\n",
    "    for col in cols:\n",
    "        if adidas_nike[col].dtype == 'object':\n",
    "        \n",
    "            frecuencia_categorias = adidas_nike[col].value_counts()\n",
    "            \n",
    "            \n",
    "            percentil_95 = frecuencia_categorias.quantile(0.95)#Calcular el percentil\n",
    "            \n",
    "            categorias_outliers = frecuencia_categorias[frecuencia_categorias > percentil_95].index.tolist()\n",
    "            \n",
    "            outliers_dict2[col] = categorias_outliers\n",
    "            \n",
    "    return outliers_dict2"
   ]
  },
  {
   "cell_type": "code",
   "execution_count": 73,
   "metadata": {},
   "outputs": [
    {
     "name": "stdout",
     "output_type": "stream",
     "text": [
      "Columna 'Product Name': 52 outliers -> [\"Women's adidas Originals Sambarose Shoes\", \"Men's adidas Originals Supercourt Shoes\", \"Men's adidas Originals Stan Smith Shoes\", \"Men's adidas Originals Continental 80 Shoes\", 'Nike Air Max 90', \"Women's adidas Originals Sleek Shoes\", 'Unisex adidas Originals Marathon Tech Shoes', \"Women's adidas Originals NMD_R1 Shoes\", 'Unisex adidas Originals Skateboarding 3MC Shoes', \"Men's adidas Sport Inspired Grand Court Shoes\", \"Men's adidas Running Duramo 9 Shoes\", \"Women's adidas Originals Continental 80 Shoes\", \"Women's adidas Running Ultraboost 19 Shoes\", \"Men's adidas Originals Rivalry Low Shoes\", \"Women's adidas Originals Falcon Shoes\", \"Men's adidas Sport Inspired VL Court 2.0 Shoes\", \"Women's adidas Originals Supercourt Shoes\", \"Men's adidas Originals Forest Grove Shoes\", \"Women's adidas Originals Stan Smith Shoes\", \"Women's adidas Originals I-5923 Shoes\", \"Men's adidas Originals Superstar Shoes\", \"Men's adidas Sport Inspired Blaze Runner Shoes\", \"Men's adidas Sport Inspired Archivo Shoes\", 'Nike Air Max 270 React', 'Unisex adidas Originals Continental Vulc Shoes', \"Men's adidas Originals Yung-96 Shoes\", \"Men's adidas Sport Inspired Grand Court Base Shoes\", \"Men's adidas Running Ultraboost 19 Shoes\", \"Men's adidas Running Stargon 1.0 Shoes\", \"Men's adidas Originals U_Path Run Shoes\", \"Women's adidas Originals Superstar Shoes\", \"Women's adidas Originals POD-S3.1 Shoes\", \"Men's adidas Running EnergyFalcon Shoes\", \"Men's adidas Running Asweerun Shoes\", \"Men's adidas Running Galaxy 4 Shoes\", \"Men's adidas Sport Inspired Cloudfoam Racer TR Shoes\", \"Women's adidas Sport Inspired VL Court 2.0 Shoes\", \"Men's adidas Sport Inspired Questar Flow Shoes\", \"Men's adidas Originals Yung-1 Shoes\", \"Men's adidas Originals Swift Run Shoes\", \"Men's adidas Originals Gazelle Shoes\", \"Men's adidas Sport Inspired Duramo Lite 2.0 Shoes\", \"Women's adidas Originals Deerupt Runner Shoes\", \"Men's adidas Sport Inspired Quickspike Shoes\", 'Nike Air Max 97', \"Men's adidas Sport Inspired Drogo Shoes\", \"Men's adidas Running SenseBoost GO Shoes\", \"Men's adidas Sport Inspired Run 60s Shoes\", \"WOMEN'S ADIDAS ORIGINALS SAMBAROSE SHOES\", \"Men's adidas Running Nepton 2.0 Shoes\", \"Men's adidas RunFalcon Shoes\", \"Women's adidas Originals Rivalry Low Shoes\"]\n",
      "Columna 'Brand': 1 outliers -> ['Adidas CORE / NEO']\n",
      "Columna 'Description': 59 outliers -> ['A well cushioned shoe with a fresher look that will appeal to young runners. Features Mesh upper for maximum ventilation, lightstrike IMEVA midsole with visible adiprene providing protection from harmful impact forces and durable Rubber outsole for long-lasting wear.', 'Stylish and sleek adidas sandals for women are extremely lightweight. Adjustable straps enable optimal fit while the Synthetic upper and soft EVA footbed with fitted heel provide enhanced comfort. Rubber outsole with wet and dry traction pattern keeps you in control.', 'Aspire to greatness. These running shoes are made with an airy, lightweight mesh upper. The durable rubber outsole grips the pavement for added stability. A cushioned midsole brings comfort to each step.', 'Stylish and sleek adidas Hoist sandals for men. Adjustable straps enable optimal fit while the synthetic leather upper with embossing details for structure and style. The soft EVA footbed provide enhanced comfort. Durable and rugged rubber outsole with wet and dry traction pattern keeps you in control.', 'Modern comfort and authentic adidas heritage mix it up. These running-inspired shoes treat your feet to superior cushioning and an ultra-plush ride with a Cloudfoam midsole and soft sockliner. A sleek mesh upper features suede overlays and subtle 3-Stripes for sporty style.', \"Get maximum support, comfort and a refreshed look with these adidas Legus shoes for men. The textile mesh upper is breathable and has a sock-like fit and the supportive cage in the shoe's midfoot provides midfoot lockdown. CLOUDFOAM gives instant step in-comfort, long-lasting responsive cushioning and a super-plush feel and the Rubber outsole gives ultimate durability.\", \"These men's running shoes keep you comfortable so you stay focused on your running goals. They feature a textile upper that wraps around the midfoot to give you stability where you need it most. Cloudfoam cushioning offers comfort with every stride, while a handy heel pull helps you get them on in a hurry.\", \"A mash-up of celebrated court styles. These '70s-inspired shoes have a smooth leather-like upper. They flash perforated 3-Stripes on one side and stitched contrast 3-Stripes on the other. Ultra-soft cushioning ensures a smooth ride.\", \"Ready for everyday, these men's shoes bring running-inspired style to active feet. They have a mesh upper accented by contrast 3-Stripes. The EVA midsole and outsole provide support to their every step.\", 'Designed for the ever-changing urban landscape, these running shoes have a lightweight knit upper that follows the natural movement of your stride. The wide platform provides support for lateral movement, and responsive cushioning returns energy with every step.', \"These men's running shoes keep you comfortable so you stay focused on your goals. They feature a textile mesh upper along with Cloudfoam midsole provides optimum cushioning where you need it most and durable Rubber outsole for long-lasting wear.\", 'Ultraboost reinvented. These running shoes reboot key performance technologies to give you a confident and energy-filled run. The knit upper has a second-skin fit and is built with motion-weave technology for adaptive stretch and support. Dual-density cushioning delivers medial support and an energised ride.', 'A flashy racer style in a sleek package. A sandwich mesh upper gives these running-inspired shoes an airy feel. Tongue and heel pulls allow for easy on and off. Lightweight cushioning offers superior comfort.', 'The Supercourt distills 40 years of adidas tennis style. This version of the classic low-profile shoes has perforated 3-Stripes on a crisp leather upper. Decorative stitching and overlays add texture and depth for a multilayered look.', 'Sleek running shoes for men. These shoes have a lightweight look and feel in honeycomb mesh. Cloudfoam cushioning delivers superior step-in comfort.', \"These men's versatile running shoes are ideal for the treadmill or the trail. They feature a mesh upper for breathability and a seamless print overlay for additional support. Pillow-soft Cloudfoam cushions every stride, while the durable outsole holds up to everyday wear.\", 'Water-repellent shoes for adding variety to your daily workout routine. These multisport training shoes have a ripstop and leather-like upper for cold-weather durability. A midfoot cage provides additional stability while lightweight cushioning keeps you comfortable across long distances.', 'A new day. A new run. Make it your best. These high-performance shoes feature a foot-hugging knit upper. Stitched-in reinforcement is precisely placed to give you support in the places you need it most. The soft elastane heel delivers a more comfortable fit. Responsive cushioning returns energy to your stride with every footstrike for that I-could-run-forever feeling.', 'Designed with sleek lines for a minimalist look, these shoes have a light and breathable mesh upper. Pillowy cushioning delivers comfort that lasts all day.', 'The premium looking adidas Raddis 1.0 Running shoes for men. The breathable and lightweight Knit-Mesh offer extended ventilation and comfort. IMEVA midsole and full Rubber outsole provides durability.', 'Streamlined and sleek, these adidas Originals Gazelle shoes for men. Soft Suede-Leather upper offers luxurious feel while removable inlay offers unique comfort to your insole. It comes with 3 stripes on the sides and extra lace.', \"These neutral running shoes have a women's-specific design, with a rounder heel that cradles the foot. The upper is made of lightweight stretch mesh for a barely there feel. Designed for indoor and outdoor running, the shoes feature springy cushioning to keep you comfortable over the miles.\", \"Get maximum support, comfort and a refreshed look with these adidas Naha shoes for men comes wit a classic style. Mesh and synthetic upper with EVA midsole for maximum impact cushioning. It's Super High Traction Rubber for optimal grip in wet conditions.\", \"Shoes with flexibility and responsiveness for multisport training. These shoes have a mesh upper that hugs the foot for a sock-like fit. Pillow-like midsole cushioning provides long-lasting comfort. Durable rubber inserts at the forefoot and heel provide added grip so you're ready for unexpected terrain.\", 'Great everyday shoes for runners to go that extra mile. Features Mesh upper for maximum ventilation, lightstrike EVA midsole with visible adiprene providing protection from harmful impact forces and durable Rubber outsole for long-lasting wear.', 'These Erdiga 4.0 running shoes for men will add a fresh vigour to your workout sessions. Featuring mesh upper and lining, these lace-ups are durable, light in weight and comfortable to wear. Furthermore, the rubber outsole ensures better traction on different surfaces.', \"It shows no mercy. It feels no pity. Every inch of its fearsome frame has mutated to fulfil its single, Unrelenting Goal. Domination. The Predator 20 is here and it's hungry for control. Legal? Absolutely. Fair? Who Cares? Get a grip, playtime's over.\", 'Light on your feet. Ready for the streets. These running-inspired shoes give the textured knit upper a modern edge with floating 3-Stripes integrated into the lacing system. Ultra-soft Cloudfoam cushioning in the one-piece midsole and outsole provides comfort that lasts all day long.', 'The stylish adidas Nayo 2.0 shoes for men crafted for runners. The breathable Knit-Mesh upper offer extended grip and comfort. Lightstrike EVA midsole and full Rubber outsole provides durability.', \"Celebrate an era of breaking barriers in sport. These '60s running-inspired shoes showcase a retro look for today's streets. The classic nylon and suede-like upper rides above a lightweight EVA midsole that brings modern cushioning to an old-school design. Iconic 3-Stripes show your adidas pride.\", \"These women's classic flip-flops offer a clean beach design. Featuring midsole cushioning, this essential footwear provides lightweight comfort in a simple silhouette.\", 'Easy style with every stride. These basketball-inspired shoes have a nubuck-like upper. Bold 3-Stripes on the outer side and perforated 3-Stripes on the inner side mix modern and classic design. The rubber outsole has a vulcanised look.', 'The U_Path Run offers a sleek combination of retro and modern. These shoes are built of soft, breathable mesh for everyday wear. The D-ring lacing system adds a distinctive look and the bungee heel piece gives extra support. A lightweight EVA midsole adds all-day wearability.', 'Old-school skate style graduates to a new look and feel. These shoes boast a smooth, abrasion-resistant upper that stands up to abuse and a lightly padded mid-top cut for better ankle protection and support. A vulcanized rubber outsole sticks to your board for great control.', \"These men's running-inspired shoes feature a breathable mesh upper with a comfort collar, while a moulded overlay provides lightweight support. The soft Cloudfoam cushioning in the one-piece midsole and outsole provides comfort that lasts all day long.\", 'Combining skate-friendly design with a clean, classic profile, these shoes are in their element on or off the board. Their highly versatile style is rider-friendly, with a reinforced canvas upper and an ultra-flexible Geoflex outsole that moves naturally with your foot and has great board feel.', \"These men's running shoes will get you on the road to your goals. A sandwich mesh upper offers lightweight breathability, while a seamless print overlay adds support for a stable stride. The midsole offers pillow-soft Cloudfoam cushioning that eases every stride.\", 'Everything you need for a great run. These shoes have a breathable mesh upper with strategically placed support and flexible cushioning for a bouncy ride. A durable rubber outsole delivers reliable traction over long distances.', 'These shoes draft off the Marathon TR, a trail-running pioneer that debuted in 1979. The rugged upper mixes breathable mesh and suede overlays with iconic 3-Stripes branding. A midfoot webbing print highlights the addition of responsive Boost cushioning.', \"These men's running shoes provide a cloudlike landing every time your foot hits the ground. A seamless stretch mesh upper provides lightweight support, and a performance sockliner keeps your feet ventilated. The cloudfoam midsole provides responsive cushioning for superior comfort.\", \"These shoes follow in the style steps of adidas' first trail running shoe, the Marathon TR. The vintage-inspired upper is a mix of breathable mesh and synthetic suede, with the iconic 3-Stripes in contrast colour. Extra comfort comes from the energy-returning Boost midsole.\", 'Extremely functional and subtle running shoes for men. The breathable and lightweight textile upper offer extended ventilation and comfort. The Cloudfoam midsole gives you cushioning you need everyday and Rubber outsole provides durability.', \"Extremely functional and subtle running-inspired shoes for men. Feature a textile mesh upper and synthetic overlays. EVA cushioning adds extra comfort. The running 3-Stripes on the sides along with an interesting all-over print on the upper add to it's appeal.\", \"Running reinvented. These high-performance neutral running shoes deliver unrivaled comfort and energy return. The lightweight and propulsive shoes have a seamless knit upper that's engineered with motion weave technology to provide stretch while also holding your foot in place as you run. The second-skin fit follows the shape of your foot to reduce pressure points.\", \"Feel confident on your daily run. These men's shoes have a breathable mesh upper that's designed for an irritation-free fit. A Solar Propulsion Rail helps to guide the foot from touchdown to toe-off. Responsive cushioning returns energy to your stride.\", 'Less really is more in these sleek running shoes offering maximum breathability. They come with mesh upper for optimal ventilation. The IMEVA midsole and full rubber outsole provide comfort and durability.', 'Step out in these premium sandals with connecting side straps for comfort and style with classic detailing.The Injection Eva midsole is for cushioning and textured footbed for comfort. They come with a durable Rubber outsole with wet and dry traction pattern.', 'A modern take on adidas sport heritage, tailored just for women. Perforated 3-Stripes on the leather upper of these shoes offer a sleek look that mirrors iconic tennis styles.', 'Mid-top style in a streamlined package. These basketball-inspired shoes boast a leather-like upper with stitched-on 3-Stripes. A breathable mesh collar gives them a sporty feel.', \"Running reinvented. These high-performance neutral running shoes deliver unrivaled comfort and energy return. The lightweight and propulsive shoes have a seamless knit upper that's engineered with motion weave technology to provide stretch while also holding your foot in place while you run. The second-skin fit follows the shape of your foot to reduce pressure points.\", 'The simple and stylish adidas Stabile slippers for men. Crafted with Synthetic upper with deco stitch and thong construction allows additional comfort. 3-Stripes on the strap reflects the brand perfectly. The lightweight EVA for comfort with textured rubber outsole keep it durable while with the premium Synthetic, these slippers are perfect for casual wear.', \"Refine your interval training in these men's versatile running-inspired shoes. Featuring a lightweight mesh and synthetic upper, they combine responsive midsole cushioning with a soft collar that reduces ankle pressure.\", \"These dynamic running shoes for men offer outstanding traction, cushioning and fit that's tailored to the streets. It's built using 3D moulding that follows the shape of the foot for a supportive, locked-in feel. A wide forefoot delivers increased surface contact for added stability, and a grippy rubber outsole is ideal for dodging urban obstacles.\", 'Energize your run while staying comfortable with this new design, your ride will be smooth and effortless. Breathable mesh upper for maximum ventilation and a cushioned IMEVA midsole provides all-day comfort with rubber outsole for best durability in high wear areas.', 'A mix of modern comfort and authentic adidas heritage. These running-inspired shoes treat your feet to superior cushioning and an ultra-plush ride with a Cloudfoam midsole and soft sockliner. A sleek mesh upper features suede overlays with subtle 3-Stripes for sporty style.', 'A court look emerges on the streets. These shoes have a sleek leather-like upper punctuated with perforated 3-Stripes. The low-profile shape rides on a smooth rubber cupsole.', 'Inspired by outdoor trail runners. These modern shoes are made for urban adventures, with a nylon build and rubber outsole inserts. The cloudfoam inside adds long-lasting comfort.', \"Fast and sleek. Ready to go. These women's running shoes feature a streamlined, low-profile design and pillow-soft Cloudfoam cushioning for plush landings. The mesh upper delivers a speedy look in fun colours and 3-Stripes.\", 'When you dig deep to reach your goals, these running shoes offer the support and stability you need. Every step feels pillow-soft with plush cushioning and an OrthoLiteÂ® sockliner for comfort. A flowing TPU heel counter and thin support cage keep the foot centred and stable. The durable outsole is made for logging many miles.']\n",
      "Suma de outliers en variables categóricas: 112\n"
     ]
    }
   ],
   "source": [
    "# Llamar a la función \n",
    "outliers_dict2 = detectar_outlierscat(adidas_nike, ['Product Name', 'Brand','Description'])\n",
    "\n",
    "# Imprimir el diccionario creado arriba\n",
    "for col, outliers in outliers_dict2.items():\n",
    "    print(f\"Columna '{col}': {len(outliers)} outliers -> {outliers}\")\n",
    "\n",
    "# Sumar el número total de outliers encontrados en todas las columnas\n",
    "outliers_sum_cat2 = sum(len(valores) for valores in outliers_dict2.values())\n",
    "\n",
    "print(\"Suma de outliers en variables categóricas:\", outliers_sum_cat2)"
   ]
  },
  {
   "cell_type": "markdown",
   "metadata": {},
   "source": [
    "# Conclusión"
   ]
  },
  {
   "cell_type": "markdown",
   "metadata": {},
   "source": [
    "- Se elimina la columna 'Product ID' ya que al verificar no se le considera necesaria.\n",
    "\n",
    "- 'Last Visited' se verifica la columna y se observa el formato de la columna es tipo fecha y con hora ISO 8601  (YYYY-MM-DDTHH:MM:SS)\n",
    "- Se verifican las demás columnas y se visualiza que en 'Sale Price' y en ' Listing Price' no hay simbolos y no se observa el tipo de moneda. \n",
    "- Se verifican los outliers de las variables y se procede a arreglar todos menos 'Sales Price' ya que será nuestra variable objetivo más adelante.\n",
    "- Se verifican los outliers de las variables categoricas y se visualiza que hay 112 valores atipicos en este DF."
   ]
  },
  {
   "cell_type": "code",
   "execution_count": 51,
   "metadata": {},
   "outputs": [],
   "source": [
    "#Hacer un df copia y eliminar columnas innecesarias\n",
    "location = df_manuf.copy()\n",
    "location.drop(['Events',  'Postal Code'], axis=1, inplace=True)"
   ]
  },
  {
   "cell_type": "code",
   "execution_count": 52,
   "metadata": {},
   "outputs": [
    {
     "data": {
      "text/plain": [
       "array(['73', '79', '87', '86', '75', '96', '92', '81', '53', '95', '48',\n",
       "       '57', '90', '49', '38', '97', '52', '0', '84', '56', '35', '42',\n",
       "       '51', '30', '17', '11', '1', '89', '36', '65', '85', '83', '80',\n",
       "       '72', '77', '62', '88', '91', '64', '93', '70', '15', '71', '22',\n",
       "       '68', '63', '37', '10', '20', '4', '31', '21', '39', '55', '40',\n",
       "       '54', '59', '60', '78', '61', '66', '67', '23', '14', '16', '27',\n",
       "       '45', '98', '69', '33', '43', '47', '44', '41', '50', '28', '76',\n",
       "       '46', '58', '3', '99', '26', '12', '24', '34', '82', '29', '100',\n",
       "       '74', '6', '9', '94', '32', '19', '18', '13', '17,2972972972973',\n",
       "       '25'], dtype=object)"
      ]
     },
     "execution_count": 52,
     "metadata": {},
     "output_type": "execute_result"
    }
   ],
   "source": [
    "location['% Female Workers'].unique()"
   ]
  },
  {
   "cell_type": "code",
   "execution_count": 53,
   "metadata": {},
   "outputs": [],
   "source": [
    "#Modificamos la columna '% Female Workers' de object a float por este valor: '17,297297292973'\n",
    "location['% Female Workers'] = location['% Female Workers'].str.replace(',', '.').astype(float)"
   ]
  },
  {
   "cell_type": "code",
   "execution_count": 54,
   "metadata": {},
   "outputs": [
    {
     "data": {
      "text/plain": [
       "array(['Nike', 'Converse'], dtype=object)"
      ]
     },
     "execution_count": 54,
     "metadata": {},
     "output_type": "execute_result"
    }
   ],
   "source": [
    "location['Nike, Inc. Brand(s)'].unique()"
   ]
  },
  {
   "cell_type": "code",
   "execution_count": 55,
   "metadata": {},
   "outputs": [
    {
     "name": "stdout",
     "output_type": "stream",
     "text": [
      "Número de filas que contenían 'converse': 36\n"
     ]
    }
   ],
   "source": [
    "num_converse = location['Nike, Inc. Brand(s)'].str.contains('converse', case=False).sum()\n",
    "print(\"Número de filas que contenían 'converse':\", num_converse)"
   ]
  },
  {
   "cell_type": "code",
   "execution_count": 56,
   "metadata": {},
   "outputs": [],
   "source": [
    "location = location[~location['Nike, Inc. Brand(s)'].str.contains('converse', case=False)]\n",
    "# Convertimos las filas que dice converse a False y True a Nike\n",
    "location.reset_index(drop=True, inplace=True)\n",
    "#Restablecemos el indice despues de eliminar "
   ]
  },
  {
   "cell_type": "code",
   "execution_count": 75,
   "metadata": {},
   "outputs": [
    {
     "name": "stdout",
     "output_type": "stream",
     "text": [
      "Total Workers        19\n",
      "Line Workers         18\n",
      "% Female Workers      0\n",
      "% Migrant Workers    25\n",
      "dtype: int64\n"
     ]
    }
   ],
   "source": [
    "# Detectar Outliers de las variables numericas\n",
    "def detectar_outlierscol(location, cols):\n",
    "    z_scores = zscore(location[cols])\n",
    "    abs_z_scores = np.abs(z_scores)\n",
    "    return (abs_z_scores > 3) | (abs_z_scores < -3)\n",
    "\n",
    "outliers = detectar_outlierscol(location, ['Total Workers', 'Line Workers','% Female Workers', '% Migrant Workers'])\n",
    "outliers_sum = outliers.sum()\n",
    "print(outliers_sum)"
   ]
  },
  {
   "cell_type": "code",
   "execution_count": 78,
   "metadata": {},
   "outputs": [],
   "source": [
    "# Se corrige los outliers de las variables numericas\n",
    "def arreglar_outliers_simple(location, cols):\n",
    "    \n",
    "    # Iteramos sobre cada columna del DataFrame\n",
    "    for col in cols:\n",
    "        # Calculamos los percentiles 25 y 75 (Q1 y Q3)\n",
    "        Q1 = location[col].quantile(0.25)\n",
    "        Q3 = location[col].quantile(0.75)\n",
    " \n",
    "        # Calculamos el rango intercuartílico (IQR)\n",
    "        IQR = Q3 - Q1\n",
    " \n",
    "        # Calculamos los límites del intervalo\n",
    "        lower_limit = Q1 - 1.5 * IQR\n",
    "        upper_limit = Q3 + 1.5 * IQR\n",
    " \n",
    "        # Reemplazamos los valores atípicos por los límites del intervalo\n",
    "        location[col] = location[col].apply(lambda x: lower_limit if x < lower_limit else (upper_limit if x > upper_limit else x))\n",
    " \n",
    "    return location\n",
    "location = arreglar_outliers_simple(location, ['Total Workers', 'Line Workers','% Migrant Workers'])"
   ]
  },
  {
   "cell_type": "code",
   "execution_count": 81,
   "metadata": {},
   "outputs": [
    {
     "name": "stdout",
     "output_type": "stream",
     "text": [
      "Total Workers        0\n",
      "Line Workers         0\n",
      "% Female Workers     0\n",
      "% Migrant Workers    0\n",
      "dtype: int64\n"
     ]
    }
   ],
   "source": [
    "#Verificación de la reparacion de los outliers\n",
    "outliers = detectar_outlierscol(location, ['Total Workers', 'Line Workers','% Female Workers', '% Migrant Workers'])\n",
    "outliers_sum = outliers.sum()\n",
    "print(outliers_sum)"
   ]
  },
  {
   "cell_type": "code",
   "execution_count": 82,
   "metadata": {},
   "outputs": [],
   "source": [
    "def detectar_outlierscat(location, cols):\n",
    "    outliers_dict3 = {}\n",
    "    for col in cols:\n",
    "        if location[col].dtype == 'object':\n",
    "        \n",
    "            frecuencia_categorias = location[col].value_counts()\n",
    "            \n",
    "            \n",
    "            percentil_95 = frecuencia_categorias.quantile(0.95)#Calcular el percentil\n",
    "            \n",
    "            categorias_outliers = frecuencia_categorias[frecuencia_categorias > percentil_95].index.tolist()\n",
    "            \n",
    "            outliers_dict3[col] = categorias_outliers\n",
    "            \n",
    "    return outliers_dict3"
   ]
  },
  {
   "cell_type": "code",
   "execution_count": 83,
   "metadata": {},
   "outputs": [
    {
     "name": "stdout",
     "output_type": "stream",
     "text": [
      "Columna 'Factory Name': 5 outliers -> ['Staples Promotional Products', 'PT Victory Chingluh Indonesia', 'NICE APPAREL COMPANY LIMITED', 'FASHION GARMENTS 2 CO., LTD', 'PT PRATAMA ABADI INDUSTRI']\n",
      "Columna 'Factory Type': 1 outliers -> ['FINISHED GOODS']\n",
      "Columna 'Product Type Type': 1 outliers -> ['Apparel']\n",
      "Columna 'Nike, Inc. Brand(s)': 0 outliers -> []\n",
      "Columna 'Supplier Group': 11 outliers -> ['MAS HOLDINGS', 'FENG TAY', 'RAMATEX', 'SOUTH ISLAND', 'SHOETOWN', 'HI TECH', 'CHANGSHIN', 'YESIM', 'NICE APPAREL', 'TAEKWANG', 'AVERY DENNISON']\n",
      "Columna 'Address': 3 outliers -> ['YUE YUEN INDUSTRIAL PARK', 'Kalawellawa Road', 'Phum Chumpou Voin']\n",
      "Columna 'City': 19 outliers -> ['Phnom Penh', 'Busan', 'Dong Nai', 'Dongguan', 'Changhua', 'Ho Chi Minh City', 'Suzhou', 'Ningbo', 'Taoyuan', 'Tangerang', 'Nam Dinh', 'Bien Hoa City', 'Qingdao', 'Binh Duong', 'Putian', 'Tay Ninh', 'Xiamen', 'HO CHI MINH', 'Ho Chi Minh']\n",
      "Columna 'State': 9 outliers -> ['Guangdong', 'Ðng Nai', 'Jiangsu', 'Bình Duong', 'Zhejiang', 'Jawa Barat', 'Ho Chi Minh', 'Banten', 'Fujian']\n",
      "Columna 'Country / Region': 2 outliers -> ['Vietnam', 'China']\n",
      "Columna 'Region': 1 outliers -> ['N ASIA']\n",
      "Suma de outliers en variables categóricas: 52\n"
     ]
    }
   ],
   "source": [
    "# Llamar a la función \n",
    "outliers_dict3 = detectar_outlierscat(location, ['Factory Name', 'Factory Type', 'Product Type Type','Nike, Inc. Brand(s)', 'Supplier Group', 'Address', 'City', 'State', 'Country / Region', 'Region'])\n",
    "\n",
    "# Imprimir el diccionario creado arriba\n",
    "for col, outliers in outliers_dict3.items():\n",
    "    print(f\"Columna '{col}': {len(outliers)} outliers -> {outliers}\")\n",
    "\n",
    "# Sumar el número total de outliers encontrados en todas las columnas\n",
    "outliers_sum_cat3 = sum(len(valores) for valores in outliers_dict3.values())\n",
    "\n",
    "print(\"Suma de outliers en variables categóricas:\", outliers_sum_cat3)"
   ]
  },
  {
   "cell_type": "markdown",
   "metadata": {},
   "source": [
    "## Conclusión"
   ]
  },
  {
   "cell_type": "markdown",
   "metadata": {},
   "source": [
    "- Se eliminan las columnas'Events' y 'Postal Code'ya que se determina que no serán utiles\n",
    "\n",
    "- Se verifica la columna '% Female Workers' y se observa que no está en una categoria numerica al igual que la columna '% Male Workers' por lo que se procede a modificarla con tipo float.\n",
    "\n",
    "- Se observa en la columna 'Nike, Inc. Brand(s)' que están dos marcas, Converse y Nike. Se procede a eliminar todas las 36 filas donde aparece converse porque en el análisis solo nos interesa las localidades de las fábricas de Nike. \n",
    "\n",
    "- Se verifican los outliers de las variables numericas y se reparan todas menos '% Female Workers' porque no cuenta con outliers.\n",
    "\n",
    "- Se verifican los outliers de las variables categoricas y se visualizan un total de 52 outliers"
   ]
  },
  {
   "cell_type": "code",
   "execution_count": 90,
   "metadata": {},
   "outputs": [],
   "source": [
    "# Guardar los DF limpios\n",
    "nike_product.to_csv('nike_product.csv', index=True)\n",
    "nike_sales.to_csv('nike_sales.csv', index=True)\n",
    "adidas_nike.to_csv('adidas_nike.csv', index=True)\n",
    "location.to_csv('Location.cvs', index=True)\n"
   ]
  }
 ],
 "metadata": {
  "kernelspec": {
   "display_name": "Python 3",
   "language": "python",
   "name": "python3"
  },
  "language_info": {
   "codemirror_mode": {
    "name": "ipython",
    "version": 3
   },
   "file_extension": ".py",
   "mimetype": "text/x-python",
   "name": "python",
   "nbconvert_exporter": "python",
   "pygments_lexer": "ipython3",
   "version": "3.10.11"
  }
 },
 "nbformat": 4,
 "nbformat_minor": 2
}
